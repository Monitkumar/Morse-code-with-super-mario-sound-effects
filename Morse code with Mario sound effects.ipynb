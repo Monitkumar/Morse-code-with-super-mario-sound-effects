{
 "cells": [
  {
   "cell_type": "code",
   "execution_count": 25,
   "id": "bc0b6ed4",
   "metadata": {},
   "outputs": [
    {
     "name": "stdout",
     "output_type": "stream",
     "text": [
      "Requirement already satisfied: playsound in c:\\users\\monit\\anaconda3\\lib\\site-packages (1.2.2)\n"
     ]
    }
   ],
   "source": [
    "!pip install playsound"
   ]
  },
  {
   "cell_type": "code",
   "execution_count": 26,
   "id": "19679a9f",
   "metadata": {},
   "outputs": [
    {
     "name": "stdout",
     "output_type": "stream",
     "text": [
      "Requirement already satisfied: playsound==1.2.2 in c:\\users\\monit\\anaconda3\\lib\\site-packages (1.2.2)\n"
     ]
    }
   ],
   "source": [
    "!pip install playsound==1.2.2"
   ]
  },
  {
   "cell_type": "code",
   "execution_count": 27,
   "id": "28714091",
   "metadata": {},
   "outputs": [],
   "source": [
    "import time"
   ]
  },
  {
   "cell_type": "code",
   "execution_count": 28,
   "id": "3d5a477a",
   "metadata": {},
   "outputs": [],
   "source": [
    "from playsound import playsound as ps"
   ]
  },
  {
   "cell_type": "code",
   "execution_count": 29,
   "id": "3a97e6b7",
   "metadata": {},
   "outputs": [],
   "source": [
    "ps('coin2.mp3')"
   ]
  },
  {
   "cell_type": "code",
   "execution_count": 39,
   "id": "2c2c5c96",
   "metadata": {},
   "outputs": [],
   "source": [
    "ps('Coin.mp3')"
   ]
  },
  {
   "cell_type": "code",
   "execution_count": 31,
   "id": "aa12cc14",
   "metadata": {},
   "outputs": [],
   "source": [
    "translate_dict ={'A':'.-', 'B':'-...',\n",
    "                 'C':'-.-.', 'D':'-..', 'E':'.',\n",
    "                 'F':'..-.', 'G':'--.', 'H':'....',\n",
    "                 'I':'..', 'J':'.---', 'K':'-.-',\n",
    "                 'L':'.-..', 'M':'--', 'N':'-.',\n",
    "                 'O':'---', 'P':'.--.', 'Q':'--.-',\n",
    "                 'R':'.-.', 'S':'...', 'T':'-',\n",
    "                'U':'..-', 'V':'...-', 'W':'.--',\n",
    "                'X':'-..-', 'Y':'-.--', 'Z':'--..',\n",
    "                '1':'.----', '2':'..---', '3':'...--',\n",
    "                '4':'....-', '5':'.....', '6':'-....',\n",
    "                '7':'--...', '8':'---..', '9':'----.',\n",
    "                '0':'-----','?':'..--..', \" \":\"/\"}\n",
    "                "
   ]
  },
  {
   "cell_type": "code",
   "execution_count": 32,
   "id": "0f842cd1",
   "metadata": {},
   "outputs": [],
   "source": [
    "message = \"SOS\""
   ]
  },
  {
   "cell_type": "code",
   "execution_count": 33,
   "id": "28644e8c",
   "metadata": {},
   "outputs": [],
   "source": [
    "message = \" \".join(translate_dict[c] for c in message.upper())"
   ]
  },
  {
   "cell_type": "code",
   "execution_count": 34,
   "id": "b088a153",
   "metadata": {},
   "outputs": [
    {
     "name": "stdout",
     "output_type": "stream",
     "text": [
      "... --- ...\n"
     ]
    }
   ],
   "source": [
    "print(message)"
   ]
  },
  {
   "cell_type": "code",
   "execution_count": 35,
   "id": "b094c088",
   "metadata": {},
   "outputs": [],
   "source": [
    "def play_morse_code(message):\n",
    "    for c in message:\n",
    "        if c == \".\" :\n",
    "           ps('Coin.mp3')\n",
    "           time.sleep(0.1)\n",
    "        elif c == \"-\" :\n",
    "           ps('coin2.mp3')\n",
    "           time.sleep(0.3)\n",
    "        elif c == \"/\" or c == \" \":\n",
    "           time.sleep(0.5)\n",
    "        else:\n",
    "            print('Invalid Character')"
   ]
  },
  {
   "cell_type": "code",
   "execution_count": 36,
   "id": "a32ea6ec",
   "metadata": {},
   "outputs": [
    {
     "name": "stdout",
     "output_type": "stream",
     "text": [
      "... --- ...\n"
     ]
    }
   ],
   "source": [
    "print(message)"
   ]
  },
  {
   "cell_type": "code",
   "execution_count": 37,
   "id": "7dfb0371",
   "metadata": {},
   "outputs": [],
   "source": [
    "play_morse_code(message)"
   ]
  },
  {
   "cell_type": "code",
   "execution_count": 41,
   "id": "6c0c1a78",
   "metadata": {},
   "outputs": [],
   "source": [
    "reverse_dict = {v:k for k,v in translate_dict.items()}\n"
   ]
  },
  {
   "cell_type": "code",
   "execution_count": 42,
   "id": "3a326e3b",
   "metadata": {},
   "outputs": [],
   "source": [
    "reverse_message = \"\".join(reverse_dict[c] for c in message.split(\" \"))"
   ]
  },
  {
   "cell_type": "code",
   "execution_count": 43,
   "id": "ea2766ce",
   "metadata": {},
   "outputs": [
    {
     "name": "stdout",
     "output_type": "stream",
     "text": [
      "SOS\n"
     ]
    }
   ],
   "source": [
    "print(reverse_message)"
   ]
  },
  {
   "cell_type": "code",
   "execution_count": null,
   "id": "1d997ca4",
   "metadata": {},
   "outputs": [],
   "source": []
  }
 ],
 "metadata": {
  "kernelspec": {
   "display_name": "Python 3",
   "language": "python",
   "name": "python3"
  },
  "language_info": {
   "codemirror_mode": {
    "name": "ipython",
    "version": 3
   },
   "file_extension": ".py",
   "mimetype": "text/x-python",
   "name": "python",
   "nbconvert_exporter": "python",
   "pygments_lexer": "ipython3",
   "version": "3.8.8"
  }
 },
 "nbformat": 4,
 "nbformat_minor": 5
}
